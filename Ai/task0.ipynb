{
 "cells": [
  {
   "cell_type": "code",
   "execution_count": 1,
   "metadata": {},
   "outputs": [
    {
     "name": "stdout",
     "output_type": "stream",
     "text": [
      "Successfully vreated the directory C:\\Users\\MOSTAFA MAHMOUD\\Desktop\\tasks\\AI/Task1\n",
      "Successfully vreated the directory C:\\Users\\MOSTAFA MAHMOUD\\Desktop\\tasks\\AI/Task2\n",
      "Successfully vreated the directory C:\\Users\\MOSTAFA MAHMOUD\\Desktop\\tasks\\AI/Task3\n",
      "Successfully vreated the directory C:\\Users\\MOSTAFA MAHMOUD\\Desktop\\tasks\\AI/Task4\n",
      "Successfully vreated the directory C:\\Users\\MOSTAFA MAHMOUD\\Desktop\\tasks\\AI/Task5\n",
      "Successfully vreated the directory C:\\Users\\MOSTAFA MAHMOUD\\Desktop\\tasks\\AI/Task6\n",
      "Successfully vreated the directory C:\\Users\\MOSTAFA MAHMOUD\\Desktop\\tasks\\AI/Task7\n",
      "Successfully vreated the directory C:\\Users\\MOSTAFA MAHMOUD\\Desktop\\tasks\\AI/Task8\n",
      "Successfully vreated the directory C:\\Users\\MOSTAFA MAHMOUD\\Desktop\\tasks\\AI/Task9\n",
      "Successfully vreated the directory C:\\Users\\MOSTAFA MAHMOUD\\Desktop\\tasks\\AI/Task10\n",
      "Successfully vreated the directory C:\\Users\\MOSTAFA MAHMOUD\\Desktop\\tasks\\AI/Task11\n",
      "Successfully vreated the directory C:\\Users\\MOSTAFA MAHMOUD\\Desktop\\tasks\\AI/Task12\n",
      "Successfully vreated the directory C:\\Users\\MOSTAFA MAHMOUD\\Desktop\\tasks\\AI/Task13\n",
      "Successfully vreated the directory C:\\Users\\MOSTAFA MAHMOUD\\Desktop\\tasks\\AI/Task14\n",
      "Successfully vreated the directory C:\\Users\\MOSTAFA MAHMOUD\\Desktop\\tasks\\AI/Task15\n",
      "Successfully vreated the directory C:\\Users\\MOSTAFA MAHMOUD\\Desktop\\tasks\\AI/Task16\n",
      "Successfully vreated the directory C:\\Users\\MOSTAFA MAHMOUD\\Desktop\\tasks\\AI/Task17\n",
      "Successfully vreated the directory C:\\Users\\MOSTAFA MAHMOUD\\Desktop\\tasks\\AI/Task18\n",
      "Successfully vreated the directory C:\\Users\\MOSTAFA MAHMOUD\\Desktop\\tasks\\AI/Task19\n",
      "Successfully vreated the directory C:\\Users\\MOSTAFA MAHMOUD\\Desktop\\tasks\\AI/Task20\n",
      "Successfully vreated the directory C:\\Users\\MOSTAFA MAHMOUD\\Desktop\\tasks\\AI/Task21\n",
      "Successfully vreated the directory C:\\Users\\MOSTAFA MAHMOUD\\Desktop\\tasks\\AI/Task22\n",
      "Successfully vreated the directory C:\\Users\\MOSTAFA MAHMOUD\\Desktop\\tasks\\AI/Task23\n",
      "Successfully vreated the directory C:\\Users\\MOSTAFA MAHMOUD\\Desktop\\tasks\\AI/Task24\n",
      "Successfully vreated the directory C:\\Users\\MOSTAFA MAHMOUD\\Desktop\\tasks\\AI/Task25\n",
      "Successfully vreated the directory C:\\Users\\MOSTAFA MAHMOUD\\Desktop\\tasks\\AI/Task26\n",
      "Successfully vreated the directory C:\\Users\\MOSTAFA MAHMOUD\\Desktop\\tasks\\AI/Task27\n",
      "Successfully vreated the directory C:\\Users\\MOSTAFA MAHMOUD\\Desktop\\tasks\\AI/Task28\n",
      "Successfully vreated the directory C:\\Users\\MOSTAFA MAHMOUD\\Desktop\\tasks\\AI/Task29\n",
      "Successfully vreated the directory C:\\Users\\MOSTAFA MAHMOUD\\Desktop\\tasks\\AI/Task30\n"
     ]
    }
   ],
   "source": [
    "import os\n",
    "path = os.getcwd()\n",
    "for i in range (1,31):\n",
    "    try:\n",
    "        newpath = path+ \"/Task\" + str(i)\n",
    "        os.mkdir (newpath)\n",
    "    except osError:\n",
    "        print (\"Creation of the directory %s failed\" % newpath)\n",
    "    else:\n",
    "        print (\"Successfully vreated the directory %s\" % newpath)"
   ]
  },
  {
   "cell_type": "code",
   "execution_count": null,
   "metadata": {},
   "outputs": [],
   "source": []
  }
 ],
 "metadata": {
  "kernelspec": {
   "display_name": "Python 3",
   "language": "python",
   "name": "python3"
  },
  "language_info": {
   "codemirror_mode": {
    "name": "ipython",
    "version": 3
   },
   "file_extension": ".py",
   "mimetype": "text/x-python",
   "name": "python",
   "nbconvert_exporter": "python",
   "pygments_lexer": "ipython3",
   "version": "3.8.5"
  }
 },
 "nbformat": 4,
 "nbformat_minor": 4
}
